{
 "cells": [
  {
   "cell_type": "markdown",
   "metadata": {},
   "source": [
    "# 문제\n",
    "- 어떤 양의 정수 X의 각 자리가 등차수열을 이룬다면, 그 수를 한수라고 한다.\n",
    "- 등차수열은 연속된 두 개의 수의 차이가 일정한 수열을 말한다. N이 주어졌을 때, 1보다 크거나 같고, N보다 작거나 같은 한수의 개수를 출력하는 프로그램을 작성하시오. \n",
    "\n",
    "# 입력\n",
    "- 첫째 줄에 1,000보다 작거나 같은 자연수 N이 주어진다.\n",
    "\n",
    "# 출력\n",
    "- 첫째 줄에 1보다 크거나 같고, N보다 작거나 같은 한수의 개수를 출력한다.\n",
    "\n",
    "| 예제 입력 | 예제 출력 |\n",
    "|---|---|\n",
    "|110|99|\n",
    "|1|1|\n",
    "|210|105|\n",
    "|1000|144|\n",
    "|500|119|\n",
    "\n",
    "# 출처\n",
    "- 문제를 번역한 사람: baekjoon\n",
    "- 어색한 표현을 찾은 사람: bdh3313\n",
    "- 잘못된 데이터를 찾은 사람: djm03178\n",
    "- 데이터를 추가한 사람: jh05013\n",
    "\n",
    "# 알고리즘 분류\n",
    "- 수학\n",
    "- 브루트포스 알고리즘"
   ]
  },
  {
   "cell_type": "code",
   "execution_count": 4,
   "metadata": {},
   "outputs": [
    {
     "name": "stdout",
     "output_type": "stream",
     "text": [
      "144\n"
     ]
    }
   ],
   "source": [
    "n = int(input())\n",
    "count = 0\n",
    "\n",
    "for i in range(1, n + 1):\n",
    "    digits = list(map(int, str(i))) # 숫자를 자릿수 리스트로 변환\n",
    "\n",
    "    if i < 100:\n",
    "        count += 1\n",
    "    else:\n",
    "        if digits[0] - digits[1] == digits[1] - digits[2]: # 공차 확인\n",
    "            count += 1\n",
    "\n",
    "print(count)"
   ]
  },
  {
   "cell_type": "markdown",
   "metadata": {},
   "source": [
    "# 문제 풀이 및 코드\n",
    "## 문제 설명 및 핵심 개념\n",
    "- 이 문제는 **\"한수\"**의 개수를 구하는 문제\n",
    "- 한수란, 주어진 수의 각 자릿수가 등차수열을 이루는 수를 말\n",
    "\n",
    "## 등차수열이란?\n",
    "- 연속된 두 항의 차이가 항상 일정한 수열입니다.\n",
    "- 예: 1, 3, 5 → 공차 +2 / 7, 5, 3 → 공차 -2\n",
    "\n",
    "## 한수의 판별 기준\n",
    "- 한 자리 수 (1~9) → 비교할 자릿수가 없으므로 모두 한수\n",
    "\n",
    "- 두 자리 수 (10~99) → 자릿수 차이가 하나뿐이므로 모두 한수\n",
    "\n",
    "- 세 자리 수 이상 (100~999) →\n",
    "- 각 자릿수의 차이가 일정한지 확인해야 함\n",
    "- 예:\n",
    "    - 123 → (1-2 == 2-3 → -1 == -1) → 한수\n",
    "    - 142 → (1-4 != 4-2 → -3 != 2) → 한수 아님\n",
    "\n",
    "- 따라서 100 미만의 수는 모두 한수로 간주할 수 있고,\n",
    "100 이상부터는 각 자릿수를 비교하여 등차수열 여부를 판단해야 합니다."
   ]
  },
  {
   "cell_type": "markdown",
   "metadata": {},
   "source": []
  }
 ],
 "metadata": {
  "kernelspec": {
   "display_name": "Python 3",
   "language": "python",
   "name": "python3"
  },
  "language_info": {
   "codemirror_mode": {
    "name": "ipython",
    "version": 3
   },
   "file_extension": ".py",
   "mimetype": "text/x-python",
   "name": "python",
   "nbconvert_exporter": "python",
   "pygments_lexer": "ipython3",
   "version": "3.12.3"
  }
 },
 "nbformat": 4,
 "nbformat_minor": 2
}
