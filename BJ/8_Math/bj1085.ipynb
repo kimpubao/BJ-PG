{
 "cells": [
  {
   "cell_type": "markdown",
   "metadata": {},
   "source": [
    "# 문제\n",
    "- 한수는 지금 (x, y)에 있다. 직사각형은 각 변이 좌표축에 평행하고, 왼쪽 아래 꼭짓점은 (0, 0), 오른쪽 위 꼭짓점은 (w, h)에 있다. \n",
    "- 직사각형의 경계선까지 가는 거리의 최솟값을 구하는 프로그램을 작성하시오.\n",
    "\n",
    "# 입력\n",
    "- 첫째 줄에 x, y, w, h가 주어진다.\n",
    "# 출력\n",
    "- 첫째 줄에 문제의 정답을 출력한다.\n",
    "\n",
    "# 제한\n",
    "- 1 ≤ w, h ≤ 1,000\n",
    "- 1 ≤ x ≤ w-1\n",
    "- 1 ≤ y ≤ h-1\n",
    "- x, y, w, h는 정수\n",
    "\n",
    "|입력|출력|\n",
    "|:---:|:---:|\n",
    "|예제 입력 1|예제 출력 1|\n",
    "|6 2 10 3|1|\n",
    "|예제 입력 2|예제 출력 2|\n",
    "|1 1 5 5|1|\n",
    "|예제 입력 3 |예제 출력 3|\n",
    "|653 375 1000 1000|347|\n",
    "|예제 입력 4|예제 출력 4|\n",
    "|161 181 762 375|161|\n",
    "\n",
    "# 출처\n",
    "- 문제를 번역한 사람: baekjoon\n",
    "\n",
    "# 알고리즘 분류\n",
    "- 수학 / 기하학"
   ]
  },
  {
   "cell_type": "code",
   "execution_count": 1,
   "metadata": {},
   "outputs": [
    {
     "name": "stdout",
     "output_type": "stream",
     "text": [
      "1\n"
     ]
    }
   ],
   "source": [
    "x, y, w, h = map(int, input().split())\n",
    "print(min(x,y, w-x,h-y))"
   ]
  }
 ],
 "metadata": {
  "kernelspec": {
   "display_name": "Python 3",
   "language": "python",
   "name": "python3"
  },
  "language_info": {
   "codemirror_mode": {
    "name": "ipython",
    "version": 3
   },
   "file_extension": ".py",
   "mimetype": "text/x-python",
   "name": "python",
   "nbconvert_exporter": "python",
   "pygments_lexer": "ipython3",
   "version": "3.12.3"
  }
 },
 "nbformat": 4,
 "nbformat_minor": 2
}
