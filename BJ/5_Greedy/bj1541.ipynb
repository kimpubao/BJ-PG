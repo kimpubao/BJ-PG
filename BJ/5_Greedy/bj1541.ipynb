{
 "cells": [
  {
   "cell_type": "markdown",
   "id": "570fada1",
   "metadata": {},
   "source": [
    "# 문제\n",
    "- 세준이는 양수와 +, -, 그리고 괄호를 가지고 식을 만들었다. 그리고 나서 세준이는 괄호를 모두 지웠다.\n",
    "\n",
    "- 그리고 나서 세준이는 괄호를 적절히 쳐서 이 식의 값을 최소로 만들려고 한다.\n",
    "\n",
    "- 괄호를 적절히 쳐서 이 식의 값을 최소로 만드는 프로그램을 작성하시오.\n",
    "\n",
    "# 입력\n",
    "- 첫째 줄에 식이 주어진다. 식은 ‘0’~‘9’, ‘+’, 그리고 ‘-’만으로 이루어져 있고, \n",
    "- 가장 처음과 마지막 문자는 숫자이다. 그리고 연속해서 두 개 이상의 연산자가 \n",
    "- 나타나지 않고, 5자리보다 많이 연속되는 숫자는 없다. 수는 0으로 시작할 수 있다. \n",
    "- 입력으로 주어지는 식의 길이는 50보다 작거나 같다.\n",
    "\n",
    "# 출력\n",
    "- 첫째 줄에 정답을 출력한다.\n",
    "# 입출력 예시\n",
    "1. 예제 입력 1 \n",
    "- 55-50+40\n",
    "1. 예제 출력 1 \n",
    "- -35\n",
    "2. 예제 입력 2 \n",
    "- 10+20+30+40\n",
    "2. 예제 출력 2 \n",
    "- 100\n",
    "3. 예제 입력 3 \n",
    "- 00009-00009\n",
    "3. 예제 출력 3 \n",
    "- 0\n",
    "# 출처\n",
    "- 문제를 번역한 사람: baekjoon\n",
    "- 잘못된 조건을 찾은 사람: windflower\n",
    "\n",
    "# 알고리즘 분류\n",
    "- 수학\n",
    "- 그리디 알고리즘\n",
    "- 문자열\n",
    "- 파싱"
   ]
  },
  {
   "cell_type": "code",
   "execution_count": null,
   "id": "5f3a4aeb",
   "metadata": {},
   "outputs": [],
   "source": [
    "exp = input().split('-')\n",
    "\n",
    "num = []\n",
    "\n",
    "for i in exp:\n",
    "    sum = 0\n",
    "    tmp = i.split('+')\n",
    "    for j in tmp:\n",
    "        sum += int(j)\n",
    "    num.append(sum)\n",
    "\n",
    "n = num[0]\n",
    "\n",
    "for i in range(1,len(num)):\n",
    "    n -= num[i]\n",
    "print(n)"
   ]
  }
 ],
 "metadata": {
  "kernelspec": {
   "display_name": "Python 3.10.11 (pyenv)",
   "language": "python",
   "name": "pyenv310"
  },
  "language_info": {
   "name": "python",
   "version": "3.10.11"
  }
 },
 "nbformat": 4,
 "nbformat_minor": 5
}
