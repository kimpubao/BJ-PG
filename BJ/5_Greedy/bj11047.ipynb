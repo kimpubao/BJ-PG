{
 "cells": [
  {
   "cell_type": "code",
   "execution_count": null,
   "id": "4dbd1bb0-eca8-43a6-bd97-6d5479ef8145",
   "metadata": {},
   "outputs": [],
   "source": [
    "# JUPYTER NOTEBOOK 환경에서 기초부터 연습\n",
    "# MAC -> WINDOW연습\n",
    "# 시간이 될때마다 진행 될 예정\n",
    "\n",
    "# Session 1: 알고리즘\n",
    "# 그리디 알고리즘\n",
    "\n",
    "# 백준 11047\n",
    "N,K = map(int,input().split())\n",
    "\n",
    "coins = []\n",
    "for _ in range(N):\n",
    "    coins.append(int(input()))\n",
    "coins.sort(reverse=True)\n",
    "\n",
    "answer = 0\n",
    "for coin in coins:\n",
    "    if K>= coin:\n",
    "        answer += K//coin\n",
    "        K %= coin\n",
    "        if K <= 0:\n",
    "            break\n",
    "\n",
    "print (answer)"
   ]
  },
  {
   "cell_type": "code",
   "execution_count": null,
   "id": "4eecd618-cd18-4707-bdef-67cb75313e0a",
   "metadata": {},
   "outputs": [],
   "source": [
    "# 백준 11399\n",
    "n = int(input())\n",
    "p = list(map(int,input().split()))\n",
    "p.sort()\n",
    "\n",
    "answer=0\n",
    "for x in range(1,n+1):\n",
    "    answer += sum(p[0:x])\n",
    "print(answer)"
   ]
  },
  {
   "cell_type": "code",
   "execution_count": null,
   "id": "5c5d83cf-9151-441c-a31d-79e87329b04c",
   "metadata": {},
   "outputs": [],
   "source": [
    "# 백준 1463\n",
    "x=int(input()) # 수 입력받기\n",
    "d=[0]*(x+1) # 1-based\n",
    "for i in range(2,x+1): # 2부터 x까지 반복\n",
    "    d[i]=d[i-1]+1 # 1을 빼는 연산 -> 1회 진행\n",
    "    if i%2==0: # 2로 나누어 떨어질 때, 2로 나누는 연산\n",
    "        d[i]=min(d[i],d[i//2]+1)\n",
    "    if i%3==0: # 3으로 나누어 떨어질 때, 3으로 나누는 연산\n",
    "        d[i]=min(d[i],d[i//3]+1)\n",
    "print(d[x])"
   ]
  },
  {
   "cell_type": "code",
   "execution_count": null,
   "id": "2ed5dd0f-4d86-44b7-862c-15cb13e046cf",
   "metadata": {},
   "outputs": [],
   "source": [
    "# 백준 1003\n",
    "t = int(intpu())\n",
    "\n",
    "for _ in range(t):\n",
    "    n = int(input())\n",
    "    a,b = 1,0\n",
    "    for i in range(n):\n",
    "        a,b = b.a+b\n",
    "    print(a,b)"
   ]
  },
  {
   "cell_type": "code",
   "execution_count": null,
   "id": "7aed34c5-55b1-45f6-ac02-19484e2aae40",
   "metadata": {},
   "outputs": [],
   "source": [
    "# 백준 1992 \n",
    "def quadtree(x, y, size):\n",
    "    color = image[x][y]\n",
    "    for i in range(x, x + size):\n",
    "        for j in range(y, y + size):\n",
    "            if image[i][j] != color:\n",
    "                print(\"(\", end=\"\")\n",
    "                half = size // 2\n",
    "                quadtree(x, y, half)\n",
    "                quadtree(x, y + half, half)\n",
    "                quadtree(x + half, y, half)\n",
    "                quadtree(x + half, y + half, half)\n",
    "                print(\")\", end=\"\")\n",
    "                return\n",
    "    print(color, end=\"\")\n",
    "\n",
    "# 입력 처리\n",
    "n = int(input())\n",
    "image = [input().strip() for _ in range(n)]\n",
    "\n",
    "quadtree(0, 0, n)"
   ]
  },
  {
   "cell_type": "code",
   "execution_count": null,
   "id": "66adea0b-f378-4eef-8631-2954b7ce9e94",
   "metadata": {},
   "outputs": [],
   "source": [
    "# 백준 2603\n",
    "N = int(input())\n",
    "paper = [list(map(int, input().split())) for _ in range(N)]\n",
    "\n",
    "white, blue = 0, 0\n",
    "\n",
    "def divide(x, y, n):\n",
    "    global white, blue\n",
    "    color = paper[x][y]\n",
    "    check = True\n",
    "\n",
    "    for i in range(x, x+n):\n",
    "        if not check:\n",
    "            break\n",
    "\n",
    "        for j in range(y, y+n):\n",
    "            if color != paper[i][j]:\n",
    "                check = False\n",
    "                divide(x, y, n//2)  # 1사분면\n",
    "                divide(x, y+n//2, n//2)  # 2사분면\n",
    "                divide(x+n//2, y, n//2)  # 3사분면\n",
    "                divide(x+n//2, y+n//2, n//2)  # 4사분면\n",
    "                break\n",
    "    if check:\n",
    "        if color:\n",
    "            blue += 1\n",
    "        else:\n",
    "            white += 1\n",
    "\n",
    "divide(0, 0, N)\n",
    "print(white)\n",
    "print(blue) "
   ]
  },
  {
   "cell_type": "code",
   "execution_count": null,
   "id": "3fb75e6f-24c5-4e61-a5f3-1764e0824b78",
   "metadata": {},
   "outputs": [],
   "source": [
    "# 백준 11650\n",
    "N = int(input())\n",
    "arr = []\n",
    "\n",
    "for i in range(N):\n",
    "    a,b = map(int,input().split())\n",
    "    arr.append((a,b))\n",
    "arr.sort()\n",
    "\n",
    "for i in range(N):\n",
    "    print(arr[i][0],arr[i][1])"
   ]
  }
 ],
 "metadata": {
  "kernelspec": {
   "display_name": "Python 3 (ipykernel)",
   "language": "python",
   "name": "python3"
  },
  "language_info": {
   "codemirror_mode": {
    "name": "ipython",
    "version": 3
   },
   "file_extension": ".py",
   "mimetype": "text/x-python",
   "name": "python",
   "nbconvert_exporter": "python",
   "pygments_lexer": "ipython3",
   "version": "3.12.4"
  }
 },
 "nbformat": 4,
 "nbformat_minor": 5
}
