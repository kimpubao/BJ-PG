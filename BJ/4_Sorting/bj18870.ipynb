{
 "cells": [
  {
   "cell_type": "code",
   "execution_count": null,
   "metadata": {},
   "outputs": [],
   "source": [
    "# 18870 좌표 입력\n",
    "'''\n",
    "문제\n",
    "수직선 위에 N개의 좌표 X1, X2, ..., XN이 있다. \n",
    "이 좌표에 좌표 압축을 적용하려고 한다.\n",
    "\n",
    "Xi를 좌표 압축한 결과 X'i의 값은 Xi > Xj를 만족하는 서로 다른 좌표 Xj의 개수와 같아야 한다.\n",
    "\n",
    "X1, X2, ..., XN에 좌표 압축을 적용한 결과 X'1, X'2, ..., X'N를 출력해보자.\n",
    "\n",
    "입력\n",
    "첫째 줄에 N이 주어진다.\n",
    "\n",
    "둘째 줄에는 공백 한 칸으로 구분된 X1, X2, ..., XN이 주어진다.\n",
    "\n",
    "출력\n",
    "첫째 줄에 X'1, X'2, ..., X'N을 공백 한 칸으로 구분해서 출력한다.\n",
    "\n",
    "제한\n",
    "1 ≤ N ≤ 1,000,000\n",
    "-109 ≤ Xi ≤ 109\n",
    "\n",
    "\n",
    "예제 입력 1             예제 출력 1 \n",
    "5\n",
    "2 4 -10 4 -9         2 3 0 3 1\n",
    "\n",
    "\n",
    "예제 입력 2                             예제 출력 2 \n",
    "6\n",
    "1000 999 1000 999 1000 999           1 0 1 0 1 0\n",
    "\n",
    "\n",
    "'''"
   ]
  },
  {
   "cell_type": "code",
   "execution_count": null,
   "metadata": {},
   "outputs": [],
   "source": [
    "import sys\n",
    "\n",
    "input = sys.stdin.readline\n",
    "\n",
    "n = int(input())\n",
    "arr = list(map(int,input().split()))\n",
    "\n",
    "arr2 = sorted(list(set(arr)))\n",
    "dic = {arr2[i] : i for i in range(len(arr2))}\n",
    "for i in arr:\n",
    "    print(dic[i],end = ' ')"
   ]
  }
 ],
 "metadata": {
  "language_info": {
   "name": "python"
  }
 },
 "nbformat": 4,
 "nbformat_minor": 2
}
