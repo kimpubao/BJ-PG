{
 "cells": [
  {
   "cell_type": "code",
   "execution_count": null,
   "metadata": {},
   "outputs": [],
   "source": [
    "#1427 소트인사이드\n",
    "'''\n",
    "문제\n",
    "배열을 정렬하는 것은 쉽다. 수가 주어지면, \n",
    "그 수의 각 자리수를 내림차순으로 정렬해보자.\n",
    "\n",
    "입력\n",
    "첫째 줄에 정렬하려고 하는 수 N이 주어진다.\n",
    " N은 1,000,000,000보다 작거나 같은 자연수이다.\n",
    "\n",
    "출력\n",
    "첫째 줄에 자리수를 내림차순으로 정렬한 수를 출력한다.\n",
    "\n",
    "\n",
    "'''\n",
    "n = int(input())\n",
    "li = []\n",
    "\n",
    "n = str(n)\n",
    "for i in n:\n",
    "    li.append(i)\n",
    "\n",
    "li.sort(reverse=True)\n",
    "\n",
    "for i in li:\n",
    "    print(i,end=\"\")"
   ]
  }
 ],
 "metadata": {
  "language_info": {
   "name": "python"
  }
 },
 "nbformat": 4,
 "nbformat_minor": 2
}
