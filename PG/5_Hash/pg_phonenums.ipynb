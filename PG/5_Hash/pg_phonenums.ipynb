{
 "cells": [
  {
   "cell_type": "markdown",
   "metadata": {},
   "source": [
    "# **문제 설명**\n",
    "- 전화번호부에 적힌 전화번호 중, 한 번호가 다른 번호의 접두어인 경우가 있는지 확인하려 합니다.\n",
    "- 전화번호가 다음과 같을 경우, 구조대 전화번호는 영석이의 전화번호의 접두사입니다.\n",
    "   - 구조대 : 119\n",
    "   - 박준영 : 97 674 223\n",
    "   - 지영석 : 11 9552 4421\n",
    "- 전화번호부에 적힌 전화번호를 담은 배열 phone_book 이 solution 함수의 매개변수로 주어질 때, 어떤 번호가 다른 번호의 접두어인 경우가 있으면 false를 그렇지 않으면 true를 return 하도록 solution 함수를 작성해주세요.\n",
    "\n",
    "# **제한 사항**\n",
    "- phone_book의 길이는 1 이상 1,000,000 이하입니다.\n",
    "   - 각 전화번호의 길이는 1 이상 20 이하입니다.\n",
    "   - 같은 전화번호가 중복해서 들어있지 않습니다.\n",
    "\n",
    "# **입출력 예제**\n",
    "- phone_book\treturn\n",
    "- [\"119\", \"97674223\", \"1195524421\"]\tfalse\n",
    "- [\"123\",\"456\",\"789\"]\ttrue\n",
    "- [\"12\",\"123\",\"1235\",\"567\",\"88\"]\tfalse\n",
    "# **입출력 예 설명**\n",
    "- 입출력 예 #1\n",
    "   - 앞에서 설명한 예와 같습니다.\n",
    "\n",
    "- 입출력 예 #2\n",
    "   - 한 번호가 다른 번호의 접두사인 경우가 없으므로, 답은 true입니다.\n",
    "\n",
    "- 입출력 예 #3\n",
    "   - 첫 번째 전화번호, “12”가 두 번째 전화번호 “123”의 접두사입니다. 따라서 답은 false입니다."
   ]
  },
  {
   "cell_type": "code",
   "execution_count": null,
   "metadata": {},
   "outputs": [],
   "source": [
    "# 초기 코드\n",
    "# def solution(phone_book):\n",
    "#     answer = True\n",
    "#     return answer"
   ]
  },
  {
   "cell_type": "code",
   "execution_count": null,
   "metadata": {},
   "outputs": [],
   "source": [
    "def solution(phone_book):\n",
    "    answer = True\n",
    "    phone_book.sort()\n",
    "    for i in range(len(phone_book)-1):\n",
    "        if len(phone_book[i]) < len(phone_book[i+1]):\n",
    "            if phone_book[i + 1][:len(phone_book[i])] == phone_book[i]:\n",
    "                answer = False\n",
    "                break\n",
    "    return answer"
   ]
  }
 ],
 "metadata": {
  "language_info": {
   "name": "python"
  }
 },
 "nbformat": 4,
 "nbformat_minor": 2
}
