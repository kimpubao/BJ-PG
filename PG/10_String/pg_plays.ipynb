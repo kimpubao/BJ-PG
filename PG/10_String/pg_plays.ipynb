{
 "cells": [
  {
   "cell_type": "markdown",
   "metadata": {},
   "source": [
    "# 문제 설명\n",
    "- 스트리밍 사이트에서 장르 별로 가장 많이 재생된 노래를 두 개씩 모아 베스트 앨범을 출시하려 합니다. 노래는 고유 번호로 구분하며, 노래를 수록하는 기준은 다음과 같습니다.\n",
    "\n",
    "  1. 속한 노래가 많이 재생된 장르를 먼저 수록합니다.\n",
    "  2. 장르 내에서 많이 재생된 노래를 먼저 수록합니다.\n",
    "  3. 장르 내에서 재생 횟수가 같은 노래 중에서는 고유 번호가 낮은 노래를 먼저 수록합니다.\n",
    "\n",
    "- 노래의 장르를 나타내는 문자열 배열 genres와 노래별 재생 횟수를 나타내는 정수 배열 plays가 주어질 때, 베스트 앨범에 들어갈 노래의 고유 번호를 순서대로 return 하도록 solution 함수를 완성하세요.\n",
    "\n",
    "# 제한사항\n",
    "  - genres[i]는 고유번호가 i인 노래의 장르입니다.\n",
    "  - plays[i]는 고유번호가 i인 노래가 재생된 횟수입니다.\n",
    "  - genres와 plays의 길이는 같으며, 이는 1 이상 10,000 이하입니다.\n",
    "  - 장르 종류는 100개 미만입니다.\n",
    "  - 장르에 속한 곡이 하나라면, 하나의 곡만 선택합니다.\n",
    "  - 모든 장르는 재생된 횟수가 다릅니다."
   ]
  },
  {
   "cell_type": "code",
   "execution_count": null,
   "metadata": {},
   "outputs": [],
   "source": [
    "# def solution(genres, plays):\n",
    "#     answer = []\n",
    "#     return answer"
   ]
  },
  {
   "cell_type": "code",
   "execution_count": null,
   "metadata": {},
   "outputs": [],
   "source": [
    "def solution(genres, plays):\n",
    "    answer = []\n",
    "\n",
    "    dic1 = {}\n",
    "    dic2 = {}\n",
    "\n",
    "    for i(g,p) in enumerate(zip(genres,plays)):\n",
    "        if g not in dic1:\n",
    "            dic1[g] = [(i,p)]\n",
    "        else:\n",
    "            dic1[g].append((i,p))\n",
    "\n",
    "        if g not in dic2:\n",
    "            dic2[g] = p\n",
    "        else:\n",
    "            dic[g] +=p\n",
    "\n",
    "    for (k, v) in sorted(dic2.items(), key=lambda x:x[1], reverse=True):\n",
    "        for (i, p) in sorted(dic1[k], key=lambda x:x[1], reverse=True)[:2]:\n",
    "            answer.append(i)\n",
    "\n",
    "    return answer"
   ]
  }
 ],
 "metadata": {
  "language_info": {
   "name": "python"
  }
 },
 "nbformat": 4,
 "nbformat_minor": 2
}
