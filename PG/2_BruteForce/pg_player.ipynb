{
 "cells": [
  {
   "cell_type": "markdown",
   "metadata": {},
   "source": [
    "# **문제 설명**\n",
    "- 수많은 마라톤 선수들이 마라톤에 참여하였습니다. 단 한 명의 선수를 제외하고는 모든 선수가 마라톤을 완주하였습니다.\n",
    "\n",
    "- 마라톤에 참여한 선수들의 이름이 담긴 배열 participant와 완주한 선수들의 이름이 담긴 배열 completion이 주어질 때, 완주하지 못한 선수의 이름을 return 하도록 solution 함수를 작성해주세요.\n",
    "\n",
    "# **제한사항**\n",
    "- 마라톤 경기에 참여한 선수의 수는 1명 이상 100,000명 이하입니다.\n",
    "- completion의 길이는 participant의 길이보다 1 작습니다.\n",
    "- 가자의 이름은 1개 이상 20개 이하의 알파벳 소문자로 이루어져 있습니다.\n",
    "- 참가자 중에는 동명이인이 있을 수 있습니다\n",
    "\n",
    "\n",
    "# **입출력 예**\n",
    "- participant_ [\"leo\", \"kiki\", \"eden\"]\t/ [\"marina\", \"josipa\", \"nikola\", \"vinko\", \"filipa\"]\t/ [\"mislav\", \"stanko\", \"mislav\", \"ana\"]\t\n",
    "\n",
    "- completion_ [\"eden\", \"kiki\"]\t/ [\"josipa\", \"filipa\", \"marina\", \"nikola\"]\t/ [\"stanko\", \"ana\", \"mislav\"]\t\n",
    "\n",
    "- return_ \"leo\" / \"vinko\" / \"mislav\"\n",
    "\n",
    "#**입출력 예 설명**\n",
    "- 예제 #1\n",
    "   - \"leo\"는 참여자 명단에는 있지만, 완주자 명단에는 없기 때문에 완주하지 못했습니다.\n",
    "\n",
    "- 예제 #2\n",
    "   - \"vinko\"는 참여자 명단에는 있지만, 완주자 명단에는 없기 때문에 완주하지 못했습니다.\n",
    "\n",
    "- 예제 #3\n",
    "   - \"mislav\"는 참여자 명단에는 두 명이 있지만, 완주자 명단에는 한 명밖에 없기 때문에 한명은 완주하지 못했습니다.\n",
    "\n"
   ]
  },
  {
   "cell_type": "code",
   "execution_count": null,
   "metadata": {},
   "outputs": [],
   "source": [
    "# 초기 코드\n",
    "# def solution(participant, completion):\n",
    "#     answer = ''\n",
    "#     return answer"
   ]
  },
  {
   "cell_type": "code",
   "execution_count": null,
   "metadata": {},
   "outputs": [],
   "source": [
    "# 다른 사람의 풀이\n",
    "import collections\n",
    "\n",
    "def solution(participant, completion):\n",
    "    answer = collections.Counter(participant) - collections.Counter(completion)\n",
    "    return list(answer.keys())[0]\n"
   ]
  },
  {
   "cell_type": "code",
   "execution_count": null,
   "metadata": {},
   "outputs": [],
   "source": [
    "# 1. sort()를 활용\n",
    "def solution(participant,completion):\n",
    "    answer = ''\n",
    "    participant.sort()\n",
    "    completion.sort()\n",
    "    for i,j in zip(participant,completion):\n",
    "        if i != j:\n",
    "            return i\n",
    "\n",
    "    return participant[-1]"
   ]
  },
  {
   "cell_type": "code",
   "execution_count": null,
   "metadata": {},
   "outputs": [],
   "source": [
    "# 2. hash()를 활용\n",
    "def solution(participant, completion):\n",
    "    answer = ''\n",
    "    hash_dict={} // hash dictionary\n",
    "    sumHash=0\n",
    "    for i in participant:\n",
    "        hash_dict[hash(i)]=i // participant hash인덱스 넣기\n",
    "        sumHash+=hash(i) // hash 총합\n",
    "        \n",
    "    for j in completion:\n",
    "        sumHash-=hash(j) // completion의 hash값들 빼기\n",
    "        \n",
    "    return hash_dict[sumHash] // 남은 hash값에 해당하는 선수가 완주 못한 선수\n",
    "    \n",
    "# 1.Hash Map 생성\n",
    "# Hash Map은 Key-Value 쌍을 관리하는 클래스이다.\n",
    "# 문제에서 Key는 Hash값이고, Value는 선수 이름으로 하였다.\n",
    "\n",
    "# 2. Hash Map에 Participant 추가\n",
    "# Hash Map 에 Participant를 추가한다.\n",
    "# 아래의 그림과 같은 과정을 거쳐 추가를 한다.\n",
    "\n",
    "# 3. sumHash에서 완주한 선수의 hash값들 빼주기\n",
    "# 위와 같은 과정을 거치게 되면은 completion에서의 \n",
    "# hash값들을 빼주게 되면은 마지막으로 남은 hash값의 value가 완주하지 못한 선수가 되어진다"
   ]
  },
  {
   "cell_type": "code",
   "execution_count": null,
   "metadata": {},
   "outputs": [],
   "source": [
    "# 3. Collection.Counter()활용\n",
    "from collection import Counter\n",
    "\n",
    "def solution(participant, completion):\n",
    "    answeer = ''\n",
    "    dict_result = Counter(participant) - Counter(completion)\n",
    "    return list(dict_result.key())[0]"
   ]
  }
 ],
 "metadata": {
  "language_info": {
   "name": "python"
  }
 },
 "nbformat": 4,
 "nbformat_minor": 2
}
