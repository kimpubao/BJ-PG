{
 "cells": [
  {
   "cell_type": "markdown",
   "metadata": {},
   "source": [
    "# **문제 설명**\n",
    "- 도넛 모양 그래프, 막대 모양 그래프, 8자 모양 그래프들이 있습니다. 이 그래프들은 1개 이상의 정점과, 정점들을 연결하는 단방향 간선으로 이루어져 있습니다.\n",
    "\n",
    "- 크기가 n인 도넛 모양 그래프는 n개의 정점과 n개의 간선이 있습니다. 도넛 모양 그래프의 아무 한 정점에서 출발해 이용한 적 없는 간선을 계속 따라가면 나머지 n-1개의 정점들을 한 번씩 방문한 뒤 원래 출발했던 정점으로 돌아오게 됩니다. 도넛 모양 그래프의 형태는 다음과 같습니다.\n",
    "\n",
    "- 크기가 n인 막대 모양 그래프는 n개의 정점과 n-1개의 간선이 있습니다. 막대 모양 그래프는 임의의 한 정점에서 출발해 간선을 계속 따라가면 나머지 n-1개의 정점을 한 번씩 방문하게 되는 정점이 단 하나 존재합니다. 막대 모양 그래프의 형태는 다음과 같습니다.\n",
    "\n",
    "- 크기가 n인 8자 모양 그래프는 2n+1개의 정점과 2n+2개의 간선이 있습니다. 8자 모양 그래프는 크기가 동일한 2개의 도넛 모양 그래프에서 정점을 하나씩 골라 결합시킨 형태의 그래프입니다. 8자 모양 그래프의 형태는 다음과 같습니다.\n",
    "\n",
    "- 도넛 모양 그래프, 막대 모양 그래프, 8자 모양 그래프가 여러 개 있습니다. 이 그래프들과 무관한 정점을 하나 생성한 뒤, 각 도넛 모양 그래프, 막대 모양 그래프, 8자 모양 그래프의 임의의 정점 하나로 향하는 간선들을 연결했습니다.\n",
    "\n",
    "- 그 후 각 정점에 서로 다른 번호를 매겼습니다.\n",
    "- 이때 당신은 그래프의 간선 정보가 주어지면 생성한 정점의 번호와 정점을 생성하기 전 도넛 모양 그래프의 수, 막대 모양 그래프의 수, 8자 모양 그래프의 수를 구해야 합니다.\n",
    "\n",
    "- 그래프의 간선 정보를 담은 2차원 정수 배열 edges가 매개변수로 주어집니다. 이때, 생성한 정점의 번호, 도넛 모양 그래프의 수, 막대 모양 그래프의 수, 8자 모양 그래프의 수를 순서대로 1차원 정수 배열에 담아 return 하도록 solution 함수를 완성해 주세요.\n",
    "\n",
    "제한사항\n",
    "1 ≤ edges의 길이 ≤ 1,000,000\n",
    "edges의 원소는 [a,b] 형태이며, a번 정점에서 b번 정점으로 향하는 간선이 있다는 것을 나타냅니다.\n",
    "1 ≤ a, b ≤ 1,000,000\n",
    "문제의 조건에 맞는 그래프가 주어집니다.\n",
    "도넛 모양 그래프, 막대 모양 그래프, 8자 모양 그래프의 수의 합은 2이상입니다."
   ]
  },
  {
   "cell_type": "markdown",
   "metadata": {},
   "source": [
    "https://school.programmers.co.kr/learn/courses/30/lessons/258711"
   ]
  },
  {
   "cell_type": "code",
   "execution_count": null,
   "metadata": {},
   "outputs": [],
   "source": [
    "# def solution(edges):\n",
    "#     answer = []\n",
    "#     return answer"
   ]
  },
  {
   "cell_type": "code",
   "execution_count": null,
   "metadata": {},
   "outputs": [],
   "source": [
    "def solution(edges):\n",
<<<<<<< HEAD
    "    answer = [0, 0, 0, 0]\n",
    "\n",
    "    exchangeCnts = {}\n",
    "    for a, b in edges:\n",
    "        if not exchangeCnts.get(a):\n",
    "            exchangeCnts[a] = [0, 0]\n",
    "        if not exchangeCnts.get(b):\n",
    "            exchangeCnts[b] = [0, 0]\n",
    "        \n",
    "        # 준 것, 받은 것 카운팅\n",
    "        # a, b는 a가 b에 준 것, b가 a에게 받은 것\n",
    "        exchangeCnts[a][0] += 1\n",
    "        exchangeCnts[b][1] += 1\n",
    "    \n",
    "    for key, exchangeCnt in exchangeCnts.items():\n",
    "        # 그래프는 최소 2개 이상으로 준 것만 2개 이상인 정점이 생성점\n",
    "        if exchangeCnt[0] >= 2 and exchangeCnt[1] == 0:\n",
    "            answer[0] = key\n",
    "        # 받은 것만 있는 정점의 개수는 막대 그래프의 개수\n",
    "        elif exchangeCnt[0] == 0 and exchangeCnt[1] > 0:\n",
    "            answer[2] += 1\n",
    "        # 준 것, 받은 것 각각 2개 이상인 점의 개수는 8자 그래프의 개수\n",
    "        elif exchangeCnt[0] >= 2 and exchangeCnt[1] >= 2:\n",
    "            answer[3] += 1\n",
    "    \n",
    "    # 전체 그래프 개수인 생성점의 준 것에서 2종류의 그래프를 빼면 도넛 그래프의 개수\n",
    "    answer[1] = (exchangeCnts[answer[0]][0] - answer[2] - answer[3])\n",
    "\n",
=======
    "    answer = []\n",
>>>>>>> 3233a2e2c90467177d914e10609039d7d66aa990
    "    return answer"
   ]
  }
 ],
 "metadata": {
  "language_info": {
   "name": "python"
  }
 },
 "nbformat": 4,
 "nbformat_minor": 2
}
