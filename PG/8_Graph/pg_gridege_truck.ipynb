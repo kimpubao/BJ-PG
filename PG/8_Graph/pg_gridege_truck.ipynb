{
 "cells": [
  {
   "cell_type": "markdown",
   "metadata": {},
   "source": [
    "# 문제 설명\n",
    "- 트럭 여러 대가 강을 가로지르는 일차선 다리를 정해진 순으로 건너려 합니다. 모든 트럭이 다리를 건너려면 최소 몇 초가 걸리는지 알아내야 합니다. 다리에는 트럭이 최대 bridge_length대 올라갈 수 있으며, 다리는 weight 이하까지의 무게를 견딜 수 있습니다. 단, 다리에 완전히 오르지 않은 트럭의 무게는 무시합니다.\n",
    "\n",
    "- 예를 들어, 트럭 2대가 올라갈 수 있고 무게를 10kg까지 견디는 다리가 있습니다. 무게가 [7, 4, 5, 6]kg인 트럭이 순서대로 최단 시간 안에 다리를 건너려면 다음과 같이 건너야 합니다.\n",
    "\n",
    "- 경과시간 / 다리를 지난 트럭 / 다리를 건너는 트럭\t/ 대기 트럭\n",
    "- 0 / [] / [] / [7,4,5,6]\n",
    "- 1~2 /\t[]\t/ [7]\t /[4,5,6]\n",
    "- 3\t/ [7]\t/ [4]\t/ [5,6]\n",
    "- 4 / [7]\t/ [4,5]\t/ [6]\n",
    "- 5 / \t[7,4]\t/ [5]\t/ [6]\n",
    "- 6~7\t/ [7,4,5]\t/ [6]\t/ []\n",
    "- 8\t/ [7,4,5,6]\t/ []\t/ []\n",
    "\n",
    "# 따라서, 모든 트럭이 다리를 지나려면 최소 8초가 걸립니다.\n",
    "- solution 함수의 매개변수로 다리에 올라갈 수 있는 트럭 수 bridge_length, 다리가 견딜 수 있는 무게 weight, 트럭 별 무게 truck_weights가 주어집니다. 이때 모든 트럭이 다리를 건너려면 최소 몇 초가 걸리는지 return 하도록 solution 함수를 완성하세요.\n",
    "\n",
    "# 제한 조건\n",
    "  - bridge_length는 1 이상 10,000 이하입니다.\n",
    "  - weight는 1 이상 10,000 이하입니다.\n",
    "  - truck_weights의 길이는 1 이상 10,000 이하입니다.\n",
    "  - 모든 트럭의 무게는 1 이상 weight 이하입니다.\n"
   ]
  },
  {
   "cell_type": "code",
   "execution_count": null,
   "metadata": {},
   "outputs": [],
   "source": [
    "from collections import deque\n",
    "\n",
    "def solution(bridge_length, weight, truck_weights):\n",
    "    time = 0 # 최초 경과 시간 (0으로 설정)\n",
    "    bridge = deque([0] * bridge_length)  # [0]*bridge_length 을 덱으로 변환\n",
    "    truck_weights = deque(truck_weights) # 리스트를 덱으로 변환\n",
    "\n",
    "    currentWeight = 0 # 현재 다리 위의 무게를 저장하는 변수\n",
    "    while len(truck_weights) > 0: # truck_weight가 []이 아닐 때까지 반복\n",
    "        time = time + 1\n",
    "\n",
    "        currentWeight = currentWeight - bridge.popleft()\n",
    "\n",
    "        # print(f\"currentWeight: {currentWeight}, truck_weights: {truck_weights}\")\n",
    "        if currentWeight + truck_weights[0] <= weight:\n",
    "            currentWeight = currentWeight + truck_weights[0]\n",
    "            bridge.append(truck_weights.popleft())\n",
    "\n",
    "        else: \n",
    "            bridge.append(0)\n",
    "\n",
    "        # print(bridge)\n",
    "    time = time + bridge_length\n",
    "    \n",
    "    return time"
   ]
  }
 ],
 "metadata": {
  "language_info": {
   "name": "python"
  }
 },
 "nbformat": 4,
 "nbformat_minor": 2
}
