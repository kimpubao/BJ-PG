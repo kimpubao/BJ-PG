{
 "cells": [
  {
   "cell_type": "markdown",
   "metadata": {},
   "source": [
    "# 문제 설명\n",
    "- 초 단위로 기록된 주식가격이 담긴 배열 prices가 매개변수로 주어질 때, 가격이 떨어지지 않은 기간은 몇 초인지를 return 하도록 solution 함수를 완성하세요.\n",
    "\n",
    "# 제한사항\n",
    "- prices의 각 가격은 1 이상 10,000 이하인 자연수입니다.\n",
    "- prices의 길이는 2 이상 100,000 이하입니다.\n",
    "\n",
    "# 입출력 예\n",
    "- prices\t/ return\n",
    "- [1, 2, 3, 2, 3] / [4, 3, 1, 1, 0]\n",
    "\n",
    "# 입출력 예 설명\n",
    "- 1초 시점의 ₩1은 끝까지 가격이 떨어지지 않았습니다.\n",
    "- 2초 시점의 ₩2은 끝까지 가격이 떨어지지 않았습니다.\n",
    "- 3초 시점의 ₩3은 1초뒤에 가격이 떨어집니다. 따라서 1초간 가격이 떨어지지 않은 것으로 봅니다.\n",
    "- 4초 시점의 ₩2은 1초간 가격이 떨어지지 않았습니다.\n",
    "- 5초 시점의 ₩3은 0초간 가격이 떨어지지 않았습니다."
   ]
  },
  {
   "cell_type": "code",
   "execution_count": null,
   "metadata": {},
   "outputs": [],
   "source": [
    "def solution(prices):\n",
    "    answer = []\n",
    "    return answer"
   ]
  },
  {
   "cell_type": "code",
   "execution_count": null,
   "metadata": {},
   "outputs": [],
   "source": [
    "def solution(prices):\n",
    "    answer = [0] * len(prices)\n",
    "    stack = []\n",
    "\n",
    "    for i in range(len(prices)):\n",
    "        while stack != [] and stack[-1][1] > prices[i]:\n",
    "            past_idx, _ = stack.pop()\n",
    "            answer[past_idx] = i - past_idx\n",
    "\n",
    "        stack.append([i, prices[i]])\n",
    "    for i, _ in stack:\n",
    "        answer[i] = len(prices) - i -1\n",
    "        \n",
    "    return answer"
   ]
  }
 ],
 "metadata": {
  "language_info": {
   "name": "python"
  }
 },
 "nbformat": 4,
 "nbformat_minor": 2
}
