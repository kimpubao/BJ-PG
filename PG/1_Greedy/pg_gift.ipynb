{
 "cells": [
  {
   "cell_type": "markdown",
   "metadata": {},
   "source": [
    "# **문제 설명**\n",
    "- 선물을 직접 전하기 힘들 때 카카오톡 선물하기 기능을 이용해 축하 선물을 보낼 수 있습니다. 당신의 친구들이 이번 달까지 선물을 주고받은 기록을 바탕으로 다음 달에 누가 선물을 많이 받을지 예측하려고 합니다.\n",
    "\n",
    "- 두 사람이 선물을 주고받은 기록이 있다면, 이번 달까지 두 사람 사이에 더 많은 선물을 준 사람이 다음 달에 선물을 하나 받습니다.\n",
    "예를 들어 A가 B에게 선물을 5번 줬고, B가 A에게 선물을 3번 줬다면 다음 달엔 A가 B에게 선물을 하나 받습니다.\n",
    "- 두 사람이 선물을 주고받은 기록이 하나도 없거나 주고받은 수가 같다면, 선물 지수가 더 큰 사람이 선물 지수가 더 작은 사람에게 선물을 하나 받습니다.\n",
    "  - 선물 지수는 이번 달까지 자신이 친구들에게 준 선물의 수에서 받은 선물의 수를 뺀 값입니다.\n",
    "  - 예를 들어 A가 친구들에게 준 선물이 3개고 받은 선물이 10개라면 A의 선물 지수는 -7입니다. B가 친구들에게 준 선물이 3개고 받은 선물이 2개라면 B의 선물 지수는 1입니다. 만약 A와 B가 선물을 주고받은 적이 없거나 정확히 같은 수로 선물을 주고받았다면, 다음 달엔 B가 A에게 선물을 하나 받습니다.\n",
    "  - 만약 두 사람의 선물 지수도 같다면 다음 달에 선물을 주고받지 않습니다.\n",
    "- 위에서 설명한 규칙대로 다음 달에 선물을 주고받을 때, 당신은 선물을 가장 많이 받을 친구가 받을 선물의 수를 알고 싶습니다.\n",
    "\n",
    "- 친구들의 이름을 담은 1차원 문자열 배열 friends 이번 달까지 친구들이 주고받은 선물 기록을 담은 1차원 문자열 배열 gifts가 매개변수로 주어집니다. 이때, 다음달에 가장 많은 선물을 받는 친구가 받을 선물의 수를 return 하도록 solution 함수를 완성해 주세요."
   ]
  },
  {
   "cell_type": "code",
   "execution_count": 1,
   "metadata": {},
   "outputs": [],
   "source": [
    "# def solution(friends, gifts):\n",
    "#     answer = 0\n",
    "#     return answer"
   ]
  },
  {
   "cell_type": "code",
   "execution_count": null,
   "metadata": {},
   "outputs": [],
   "source": [
    "def solution(friends, gifts):\n",
    "    answer = 0\n",
    "    n = len(friends)\n",
    "    \n",
    "    friend_dict = dict()\n",
    "    for i in range(n):\n",
    "        friend_dict[friends[i]] = i\n",
    "        \n",
    "    table = [[0] * n for _ in range(n)]\n",
    "    \n",
    "    # 주고 받은 선물 내역 표(table)에 저장\n",
    "    # 선물 지수(gift_indices) 저장\n",
    "    gift_indices = [0] * n\n",
    "    \n",
    "    for gift in gifts:\n",
    "        a, b = gift.split() # a : 준 사람 b : 받은 사람\n",
    "        idx1, idx2 = friend_dict[a], friend_dict[b]\n",
    "        gift_indices[idx1] += 1\n",
    "        gift_indices[idx2] -= 1\n",
    "        table[idx1][idx2] += 1\n",
    "    \n",
    "    \n",
    "    get_gift = [0] * n\n",
    "    for i in range(n):\n",
    "        for j in range(n):\n",
    "            if i == j:\n",
    "                continue\n",
    "            if table[i][j] > table[j][i]: # 준 게 더 많을 때\n",
    "                get_gift[i] += 1\n",
    "            elif table[i][j] == table[j][i]: # 주고 받은게 같을 때 or 둘 다 안주고 받았을 때\n",
    "                if gift_indices[i] > gift_indices[j]: # 선물 지수 크면 선물 받기\n",
    "                    get_gift[i] += 1\n",
    "    \n",
    "    answer = max(get_gift)\n",
    "    return answer"
   ]
  }
 ],
 "metadata": {
  "kernelspec": {
   "display_name": "Python 3",
   "language": "python",
   "name": "python3"
  },
  "language_info": {
   "codemirror_mode": {
    "name": "ipython",
    "version": 3
   },
   "file_extension": ".py",
   "mimetype": "text/x-python",
   "name": "python",
   "nbconvert_exporter": "python",
   "pygments_lexer": "ipython3",
   "version": "3.12.3"
  }
 },
 "nbformat": 4,
 "nbformat_minor": 2
}
