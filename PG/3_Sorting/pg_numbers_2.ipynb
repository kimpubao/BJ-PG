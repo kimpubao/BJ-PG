{
 "cells": [
  {
   "cell_type": "markdown",
   "metadata": {},
   "source": [
    "# 문제 설명\n",
    "- 한자리 숫자가 적힌 종이 조각이 흩어져있습니다. 흩어진 종이 조각을 붙여 소수를 몇 개 만들 수 있는지 알아내려 합니다.\n",
    "\n",
    "- 각 종이 조각에 적힌 숫자가 적힌 문자열 numbers가 주어졌을 때, 종이 조각으로 만들 수 있는 소수가 몇 개인지 return 하도록 solution 함수를 완성해주세요.\n",
    "\n",
    "# 제한사항\n",
    "- numbers는 길이 1 이상 7 이하인 문자열입니다.\n",
    "- numbers는 0~9까지 숫자만으로 이루어져 있습니다.\n",
    "- \"013\"은 0, 1, 3 숫자가 적힌 종이 조각이 흩어져있다는 의미입니다.\n",
    "\n",
    "# 입출력 예\n",
    "- numbers / return\n",
    "- \"17\" / 3\n",
    "- \"011\" / 2\n",
    "\n",
    "# 입출력 예 설명\n",
    "##### 예제 #1\n",
    "- [1, 7]으로는 소수 [7, 17, 71]를 만들 수 있습니다.\n",
    "\n",
    "##### 예제 #2\n",
    "- [0, 1, 1]으로는 소수 [11, 101]를 만들 수 있습니다.\n",
    "\n",
    "- 11과 011은 같은 숫자로 취급합니다."
   ]
  },
  {
   "cell_type": "code",
   "execution_count": null,
   "metadata": {},
   "outputs": [],
   "source": [
    "def solution(numbers):\n",
    "    answer = 0\n",
    "    return answer"
   ]
  },
  {
   "cell_type": "code",
   "execution_count": null,
   "metadata": {},
   "outputs": [],
   "source": [
    "from itertools import permutations\n",
    "\n",
    "def solution(numbers):\n",
    "    answer = []\n",
    "    nums = [n for n in numbers] # numbers를 하나씩 자른 것\n",
    "    per = []\n",
    "    for i in range(1, len(numbers)+1): # numbers의 각 숫자들을 순열로 모든 경우 만들기\n",
    "        per += list(permutations(nums, i)) # i개씩 순열 조합\n",
    "    new_nums = [int((\"\").join(p)) for p in per] # 각 순열조합을 하나의 int형 숫자로 변환\n",
    "\n",
    "    for n in new_nums: # 모든 int형 숫자에 대한 소수인지 판별\n",
    "        if n < 2: # 2보다 작은 1,0의 경우 소수 아님\n",
    "            continue\n",
    "        check = True\n",
    "        for i in range(2, int(n**0.5) + 1): # n의 제곱근 보다 작은 숫자까지만 나눗셈\n",
    "            if n % i == 0: # 하나라도 나눠떨어진다면 소수 아님\n",
    "                check = False\n",
    "                break\n",
    "        if check:\n",
    "            answer.append(n) # 소수일 경우 answer 배열에 추가\n",
    "\n",
    "    return len(set(answer)) # set을 통해 중복 제거 후 반환"
   ]
  }
 ],
 "metadata": {
  "language_info": {
   "name": "python"
  }
 },
 "nbformat": 4,
 "nbformat_minor": 2
}
