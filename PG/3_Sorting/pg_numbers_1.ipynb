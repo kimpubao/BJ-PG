{
 "cells": [
  {
   "cell_type": "markdown",
   "metadata": {},
   "source": [
    "# 문제 설명\n",
    "- 0 또는 양의 정수가 주어졌을 때, 정수를 이어 붙여 만들 수 있는 가장 큰 수를 알아내 주세요.\n",
    "- 예를 들어, 주어진 정수가 [6, 10, 2]라면 [6102, 6210, 1062, 1026, 2610, 2106]를 만들 수 있고, 이중 가장 큰 수는 6210입니다.\n",
    "- 0 또는 양의 정수가 담긴 배열 numbers가 매개변수로 주어질 때, \n",
    "- 순서를 재배치하여 만들 수 있는 가장 큰 수를 문자열로 바꾸어 return 하도록 solution 함수를 작성해주세요.\n",
    "\n",
    "# 제한 사항\n",
    "  - numbers의 길이는 1 이상 100,000 이하입니다.\n",
    "  - numbers의 원소는 0 이상 1,000 이하입니다.\n",
    "  - 정답이 너무 클 수 있으니 문자열로 바꾸어 return 합니다.\n",
    "# 입출력 예\n",
    "- numbers / return\n",
    "- [6, 10, 2] / \"6210\"\n",
    "- [3, 30, 34, 5, 9] / \"9534330\""
   ]
  },
  {
   "cell_type": "code",
   "execution_count": null,
   "metadata": {},
   "outputs": [],
   "source": [
    "def solution(numbers):\n",
    "    answer = ''\n",
    "    num = list(map(str,numbers))\n",
    "    s = sorted(num, key=lambda x:x*3, reverse = True)\n",
    "    answer += ''.join(s)\n",
    "    return str(int(answer))"
   ]
  }
 ],
 "metadata": {
  "language_info": {
   "name": "python"
  }
 },
 "nbformat": 4,
 "nbformat_minor": 2
}
